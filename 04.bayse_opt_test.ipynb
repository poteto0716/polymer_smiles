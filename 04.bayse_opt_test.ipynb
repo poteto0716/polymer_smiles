{
 "cells": [
  {
   "cell_type": "code",
   "execution_count": 19,
   "id": "6810b5ea",
   "metadata": {},
   "outputs": [
    {
     "ename": "ModuleNotFoundError",
     "evalue": "No module named 'ax.service.utils.objective_properties'",
     "output_type": "error",
     "traceback": [
      "\u001b[31m---------------------------------------------------------------------------\u001b[39m",
      "\u001b[31mModuleNotFoundError\u001b[39m                       Traceback (most recent call last)",
      "\u001b[36mCell\u001b[39m\u001b[36m \u001b[39m\u001b[32mIn[19]\u001b[39m\u001b[32m, line 4\u001b[39m\n\u001b[32m      2\u001b[39m \u001b[38;5;28;01mimport\u001b[39;00m\u001b[38;5;250m \u001b[39m\u001b[34;01mmatplotlib\u001b[39;00m\u001b[34;01m.\u001b[39;00m\u001b[34;01mpyplot\u001b[39;00m\u001b[38;5;250m \u001b[39m\u001b[38;5;28;01mas\u001b[39;00m\u001b[38;5;250m \u001b[39m\u001b[34;01mplt\u001b[39;00m\n\u001b[32m      3\u001b[39m \u001b[38;5;28;01mfrom\u001b[39;00m\u001b[38;5;250m \u001b[39m\u001b[34;01max\u001b[39;00m\u001b[34;01m.\u001b[39;00m\u001b[34;01mservice\u001b[39;00m\u001b[34;01m.\u001b[39;00m\u001b[34;01max_client\u001b[39;00m\u001b[38;5;250m \u001b[39m\u001b[38;5;28;01mimport\u001b[39;00m AxClient\n\u001b[32m----> \u001b[39m\u001b[32m4\u001b[39m \u001b[38;5;28;01mfrom\u001b[39;00m\u001b[38;5;250m \u001b[39m\u001b[34;01max\u001b[39;00m\u001b[34;01m.\u001b[39;00m\u001b[34;01mservice\u001b[39;00m\u001b[34;01m.\u001b[39;00m\u001b[34;01mutils\u001b[39;00m\u001b[34;01m.\u001b[39;00m\u001b[34;01mobjective_properties\u001b[39;00m\u001b[38;5;250m \u001b[39m\u001b[38;5;28;01mimport\u001b[39;00m ObjectiveProperties\n\u001b[32m      5\u001b[39m \u001b[38;5;28;01mfrom\u001b[39;00m\u001b[38;5;250m \u001b[39m\u001b[34;01max\u001b[39;00m\u001b[34;01m.\u001b[39;00m\u001b[34;01mmodelbridge\u001b[39;00m\u001b[34;01m.\u001b[39;00m\u001b[34;01mgeneration_strategy\u001b[39;00m\u001b[38;5;250m \u001b[39m\u001b[38;5;28;01mimport\u001b[39;00m GenerationStrategy, GenerationStep\n\u001b[32m      6\u001b[39m \u001b[38;5;28;01mfrom\u001b[39;00m\u001b[38;5;250m \u001b[39m\u001b[34;01max\u001b[39;00m\u001b[34;01m.\u001b[39;00m\u001b[34;01mmodelbridge\u001b[39;00m\u001b[34;01m.\u001b[39;00m\u001b[34;01mregistry\u001b[39;00m\u001b[38;5;250m \u001b[39m\u001b[38;5;28;01mimport\u001b[39;00m Generators\n",
      "\u001b[31mModuleNotFoundError\u001b[39m: No module named 'ax.service.utils.objective_properties'"
     ]
    }
   ],
   "source": [
    "import numpy as np\n",
    "import matplotlib.pyplot as plt\n",
    "from ax.service.ax_client import AxClient\n",
    "from ax.service.utils.objective_properties import ObjectiveProperties\n",
    "from ax.modelbridge.generation_strategy import GenerationStrategy, GenerationStep\n",
    "from ax.modelbridge.registry import Generators\n",
    "\n",
    "# ✅ ZDT1多目的関数\n",
    "def zdt1(params):\n",
    "    x = np.array([params[f\"x{i}\"] for i in range(1, 31)])\n",
    "    x1 = x[0]\n",
    "    g = 1 + 9 * np.sum(x[1:]) / 29\n",
    "    f1 = x1\n",
    "    f2 = g * (1 - np.sqrt(x1 / g))\n",
    "    return {\"f1\": f1, \"f2\": f2}\n",
    "\n",
    "# ✅ パラメータ定義（x1〜x30 ∈ [0, 1]）\n",
    "parameters = [{\"name\": f\"x{i}\", \"type\": \"range\", \"bounds\": [0.0, 1.0]} for i in range(1, 31)]\n",
    "\n",
    "# ✅ 多目的最適化のGenerationStrategy\n",
    "gs = GenerationStrategy(\n",
    "    steps=[\n",
    "        GenerationStep(model=Generators.SOBOL, num_trials=10),     # 初期点：準ランダム\n",
    "        GenerationStep(model=Generators.MOO, num_trials=-1),       # 多目的BO（qEHVIなど）\n",
    "    ]\n",
    ")\n",
    "\n",
    "# ✅ Axクライアント生成と実験初期化\n",
    "client = AxClient(generation_strategy=gs)\n",
    "client.create_experiment(\n",
    "    name=\"zdt1_mobo\",\n",
    "    parameters=parameters,\n",
    "    objectives={\n",
    "        \"f1\": ObjectiveProperties(minimize=True),\n",
    "        \"f2\": ObjectiveProperties(minimize=True),\n",
    "    },\n",
    "    is_test=True,\n",
    ")\n",
    "\n",
    "# ✅ 最適化ループ（評価・登録）\n",
    "for cycle in range(5):\n",
    "    print(f\"\\n📘 Cycle {cycle+1}\")\n",
    "    for _ in range(5):\n",
    "        params, trial_index = client.get_next_trial()\n",
    "        result = zdt1(params)\n",
    "        client.complete_trial(\n",
    "            trial_index=trial_index,\n",
    "            raw_data={\n",
    "                \"f1\": (result[\"f1\"], 0.0),\n",
    "                \"f2\": (result[\"f2\"], 0.0),\n",
    "            }\n",
    "        )\n",
    "\n",
    "    # 可視化\n",
    "    pareto = client.get_pareto_optimal_parameters()\n",
    "    pareto_f1 = [v[0][\"f1\"] for v in pareto.values()]\n",
    "    pareto_f2 = [v[0][\"f2\"] for v in pareto.values()]\n",
    "\n",
    "    data = client.experiment.fetch_data().df\n",
    "    f1_vals = data[data[\"metric_name\"] == \"f1\"][\"mean\"]\n",
    "    f2_vals = data[data[\"metric_name\"] == \"f2\"][\"mean\"]\n",
    "\n",
    "    plt.figure(figsize=(6, 5))\n",
    "    plt.scatter(f1_vals, f2_vals, c=\"blue\", label=\"All points\", alpha=0.5)\n",
    "    plt.scatter(pareto_f1, pareto_f2, c=\"red\", label=\"Pareto Front\", s=80)\n",
    "    plt.xlabel(\"f1\")\n",
    "    plt.ylabel(\"f2\")\n",
    "    plt.title(f\"ZDT1 - Pareto Front (Cycle {cycle+1})\")\n",
    "    plt.grid(True)\n",
    "    plt.legend()\n",
    "    plt.tight_layout()\n",
    "    plt.show()\n"
   ]
  },
  {
   "cell_type": "code",
   "execution_count": null,
   "id": "53f1e30b",
   "metadata": {},
   "outputs": [],
   "source": []
  }
 ],
 "metadata": {
  "kernelspec": {
   "display_name": "polygpu",
   "language": "python",
   "name": "python3"
  },
  "language_info": {
   "codemirror_mode": {
    "name": "ipython",
    "version": 3
   },
   "file_extension": ".py",
   "mimetype": "text/x-python",
   "name": "python",
   "nbconvert_exporter": "python",
   "pygments_lexer": "ipython3",
   "version": "3.11.8"
  }
 },
 "nbformat": 4,
 "nbformat_minor": 5
}
